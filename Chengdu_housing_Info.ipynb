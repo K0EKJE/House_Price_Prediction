{
 "cells": [
  {
   "cell_type": "markdown",
   "id": "0b3d8cd0",
   "metadata": {},
   "source": [
    "# Data Preperation With Web Scraping "
   ]
  },
  {
   "cell_type": "code",
   "execution_count": 9,
   "id": "69ac3925",
   "metadata": {},
   "outputs": [],
   "source": [
    "from bs4 import BeautifulSoup  \n",
    "import pandas as pd\n",
    "from tqdm import tqdm\n",
    "import math\n",
    "import requests  \n",
    "import lxml\n",
    "import re\n",
    "import time\n",
    "import numpy as np"
   ]
  },
  {
   "cell_type": "code",
   "execution_count": 85,
   "id": "aafb0f03",
   "metadata": {},
   "outputs": [],
   "source": [
    "# if regular expression fails, return np.nan\n",
    "def re_match(re_pattern, string, pattern2 = None, errif=np.nan):\n",
    "    try:\n",
    "        return re.findall(re_pattern, string)[0].strip()\n",
    "    except IndexError:\n",
    "        if pattern2 != None:\n",
    "            return re.findall(pattern2, string)[0].strip()\n",
    "        return errif"
   ]
  },
  {
   "cell_type": "code",
   "execution_count": 129,
   "id": "ff9c16db",
   "metadata": {},
   "outputs": [],
   "source": [
    "def scrap(citycode, area_dic):\n",
    "    '''\n",
    "    Input citycode and a dictionary of areas to scrape from Lian Jia website \n",
    "    '''\n",
    "    data = pd.DataFrame()\n",
    "\n",
    "    #header\n",
    "    headers = {'User-Agent': 'Mozilla/5.0 (Windows NT 10.0; Win64; x64) AppleWebKit/537.36 (KHTML, like Gecko) Chrome/65.0.3325.146 Safari/537.36',\n",
    "               'Referer': f'https://{citycode}.lianjia.com/ershoufang/'}\n",
    "    # create a new session\n",
    "    sess = requests.session()\n",
    "    sess.get(f'https://{citycode}.lianjia.com/ershoufang/', headers=headers)\n",
    "    # ex. https://sz.lianjia.com/ershoufang/luohuqu/pg2/\n",
    "    url = f'https://{citycode}'+'.lianjia.com/ershoufang/{}/pg{}/'\n",
    "\n",
    "    for key_, value_ in area_dic.items():\n",
    "        # total number of real estate\n",
    "        start_url = 'https://{}.lianjia.com/ershoufang/{}/'.format(citycode, value_)\n",
    "        html = sess.get(start_url).text\n",
    "        house_num = re.findall('共找到<span> (.*?) </span>套.*二手房', html)[0]\n",
    "        print('👻 District: {}\\n😈 Total real estate for sale:「{}」'.format(key_, house_num))\n",
    "        time.sleep(1)\n",
    "        # website constraint\n",
    "        total_page = int(math.ceil(min(3000, int(house_num)) / 30.0))\n",
    "        for i in tqdm(range(total_page), colour = 'WHITE', desc=key_):\n",
    "            html = sess.get(url.format(value_, i+1)).text\n",
    "            soup = BeautifulSoup(html, 'lxml')\n",
    "            info_collect = soup.find_all(class_=\"info clear\")\n",
    "\n",
    "            for info in info_collect:\n",
    "                info_dic = {}\n",
    "                # district\n",
    "                info_dic['area'] = key_\n",
    "                # title\n",
    "                info_dic['title'] = re_match('target=\"_blank\">(.*?)</a><!--', str(info))\n",
    "                # community name\n",
    "                info_dic['community'] = re_match('xiaoqu.*?target=\"_blank\">(.*?)</a>', str(info))\n",
    "                # location\n",
    "                info_dic['position'] = re_match('<a href.*?target=\"_blank\">(.*?)</a>.*?class=\"address\">', str(info))\n",
    "                # unit price\n",
    "                info_dic['unit_price'] = str(re_match('<div class=\"unitPrice\".*?><span>(.*?)元/平</span></div>', str(info)))\n",
    "\n",
    "                # tax related, deeds over 5 years \n",
    "                info_dic['tax'] = re_match('class=\"taxfree\">(.*?)</span>', str(info))\n",
    "                # star received/ release time \n",
    "                info_dic['star'] = re_match('class=\"starIcon\"></span>(.*?)人关注.*?</div>', str(info))\n",
    "                info_dic['release_time'] = re_match('class=\"starIcon\"></span>.*? / (.*?)以前发布</div>', str(info))\n",
    "                # whether close to subway stations\n",
    "                info_dic['subway'] = re_match('class=\"subway\">(.*?)</span>', str(info))\n",
    "                # allows VR inspection\n",
    "                info_dic['vr'] = re_match('class=\"vr\">(.*?)</span>', str(info))\n",
    "                # has key \n",
    "                info_dic['has_key'] = re_match('class=\"haskey\">(.*?)</span>', str(info)) \n",
    "\n",
    "\n",
    "                # other tages, splited by |\n",
    "                icons = re.findall('class=\"houseIcon\"></span>(.*?)</div>', str(info))[0].strip().split('|')\n",
    "                info_dic['house_type'] = icons[0].strip()\n",
    "                if len(icons)>1:\n",
    "                    info_dic['house_size'] = float(icons[1].replace('平米', ''))\n",
    "                if len(icons)>2:\n",
    "                    info_dic['direction'] = icons[2].strip()\n",
    "                if len(icons)>3:\n",
    "                    info_dic['fitment'] = icons[3].strip()\n",
    "                if len(icons)>4:\n",
    "                    info_dic['floor'] = icons[4].strip()\n",
    "                if len(icons)>5:\n",
    "                    info_dic['year_built'] = icons[5].strip()\n",
    "                if len(icons)>6:\n",
    "                    info_dic['structure_type'] = icons[6].strip()\n",
    "                if len(icons)>7:\n",
    "                    info_dic['other_feature'] = icons[7].strip()\n",
    "\n",
    "                # saved to dataframe\n",
    "                if data.empty:\n",
    "                    data = pd.DataFrame(info_dic,index=[0])\n",
    "                else:\n",
    "                    data = data.append(info_dic,ignore_index=True)\n",
    "    return data "
   ]
  },
  {
   "cell_type": "code",
   "execution_count": 144,
   "id": "c6153b47",
   "metadata": {},
   "outputs": [],
   "source": [
    "#All districts: 锦江 青羊 武侯 高新 成华 金牛 天府新区 高新西 双流 温江 郫都 龙泉驿 新都 青白江\n",
    "jinjiang = {'川师':'chuanshi','大面':'damian','东大路':'dongdalu','东光小区':'dongguangxiaoqu','东湖':'donghu',\n",
    "'东客站':'dongkezhan','合江亭':'hejiangting','红星路':'hongxinglu','静居寺':'jingjusi','九眼桥':'jiuyanqiao',\n",
    "'蓝谷地':'langudi','莲花':'lianhua2','琉璃场':'liulichang','攀成钢':'panchenggang','三官堂':'sanguantang',\n",
    "'三圣乡':'sanshengxiang','沙河堡':'shahebao','水碾河':'shuinianhe','盐市口':'yanshikou','卓锦城':'zhuojincheng'}\n",
    "\n",
    "qingyang = {'八宝街':'babaojie','贝森':'beisen','草市街':'caoshijie','草堂':'caotang','府南新区':'funanxinqu',\n",
    "'光华泡小':'guanghuapaoxiao','浣花溪':'huanhuaxi','金沙':'jinsha','宽窄巷子':'kuanzhaixiangzi','人民公园':'renmingongyuan',\n",
    "'蜀汉路':'shuhanlu','太升路':'taishenglu','外光华':'waiguanghua','外金沙':'waijinsha','万家湾':'wanjiawan',\n",
    "'西南财大':'xinancaida','盐市口':'yanshikou','优品道':'youpindao'}\n",
    "\n",
    "wuhou = {'草金立交':'caojinlijiao','川大':'chuanda','川音':'chuanyin','簇桥':'cuqiao','高升桥':'gaoshengqiao',\n",
    "'广福桥':'guangfuqiao','航空路':'hangkonglu','红牌楼':'hongpailou','华西':'huaxi','火车南站':'huochenanzhan',\n",
    "'丽都':'lidu','龙湾':'longwan','双楠':'shuangnan','桐梓林':'tongzilin','外双楠':'waishuangnan','五大花园':'wudahuayuan',\n",
    "'武侯祠':'wuhouci','武侯立交':'wuhoulijiao','新双楠':'xinshuangnan','玉林':'yulin','棕北':'zongbei'}\n",
    "\n",
    "gaoxin = {'城南宜家':'chengnanyijia','大源':'dayuan','东苑':'dongyuan2','芳草':'fangcao','高朋':'gaopeng','广都':'guangdou',\n",
    "'华府':'huafu1','华阳':'huayang','金融城':'jinrongcheng','丽都':'lidu','神仙树':'shenxianshu','市一医院':'shiyiyiyuan',\n",
    "'天府长城':'tianfuchangcheng','新北':'xinbei','新会展':'xinhuizhan','新双楠':'xinshuangnan','衣冠庙':'yiguanmiao',\n",
    "'远大':'yuanda','中德':'zhongde','中和':'zhonghe','紫荆':'zijing'}\n",
    "\n",
    "chenghua = {'八里小区':'balixiaoqu','成渝立交':'chengyulijiao','东郊记忆':'dongjiaojiyi','东客站':'dongkezhan','动物园':'dongwuyuan',\n",
    "'建设路':'jianshelu','理工大':'ligongda','李家沱':'lijiatuo','龙潭寺':'longtansi','猛追湾':'mengzhuiwan','沙河堡':'shahebao',\n",
    "'驷马桥':'simaqiao','SM广场':'smguangchang','万年场':'wannianchang','万象城':'wanxiangcheng1','新华公园':'xinhuagongyuan'}\n",
    "\n",
    "jinniu = {'八宝街':'babaojie','茶店子':'chadianzi','抚琴小区':'fuqinxiaoqu','高家庄':'gaojiazhuang','国宾':'guobin',\n",
    "'花牌坊':'huapaifang','华侨城':'huaqiaocheng3','花照壁':'huazhaobi','金府':'jinfu','金牛万达':'jinniuwanda',\n",
    "'九里堤':'jiulidi','马鞍路':'maanlu','沙湾':'shawanhuizhan','石人小区':'shirenxiaoqu','蜀汉路':'shuhanlu','天回镇':'tianhuizhen',\n",
    "'通惠门':'tonghuimen','五块石':'wukuaishi','西南交大':'xinanjiaoda','营门口':'yingmenkou','一品天下':'yipintianxia'}\n",
    "\n",
    "tianfuxinqu = {'海洋公园':'haiyanggongyuan','华阳':'huayang','锦江生态带':'jinjiangshengtaidai','麓湖生态城':'luhushengtaicheng',\n",
    "'麓山':'lushan','南湖':'nanhu','仁寿':'renshou1','四河':'sihe','新会展':'xinhuizhan','雅居乐':'yajule'}\n",
    "\n",
    "gaoxinxi = {'高新西':'gaoxinxi','中海国际':'zhonghaiguoji'}\n",
    "\n",
    "shuangliu = {'簇桥':'cuqiao','东升镇':'dongshengzhen','公兴':'gongxing','航空港':'hangkonggang','蛟龙港':'jiaolonggang',\n",
    "'警院':'jingyuan','九龙湖':'jiulonghu1','牧马山':'mumashan','双流城区':'shuangliuchengqu','文星镇':'wenxingzhen',\n",
    "'新津':'xinjin'}\n",
    "\n",
    "wenjiang = {'芙蓉古城':'furonggucheng','光华大道沿线':'guanghuadadaoyanxian','国色天乡':'guosetianxiang','花都大道':'huadudadao',\n",
    "'温江大学城':'wenjiangdaxuecheng','温江老城':'wenjianglaocheng','温江新城':'wenjiangxincheng','珠江新城':'zhujiangxincheng'}\n",
    "\n",
    "pidu = {'成外':'chengwai','红光':'hongguang','郫县城区':'pixianchengqu','郫县万达':'pixianwanda','橡树湾':'xiangshuwan',\n",
    "'犀浦':'xipu'}\n",
    "\n",
    "longquanyi = {'东山':'dongshan','航天':'hangtian','洪河':'honghe','龙泉驿城区':'longquanyichengqu','十陵':'shiling2',\n",
    "'西河':'xihe','阳光城':'yangguangcheng'}\n",
    "\n",
    "xindu = {'保利公园':'baoligongyuan','大丰':'dafeng','毗河':'pihe','新都城区':'xinduchengqu'}\n",
    "\n",
    "qingbaijiang = {'青白江':'qingbaijiang'}\n",
    "\n",
    "\n",
    "inner_districts = [jinjiang, qingyang, wuhou, jinniu, gaoxin, chenghua]\n",
    "outer_districts = [tianfuxinqu, gaoxinxi, shuangliu, wenjiang, pidu, longquanyi, xindu, qingbaijiang]"
   ]
  },
  {
   "cell_type": "code",
   "execution_count": 131,
   "id": "6b894afc",
   "metadata": {},
   "outputs": [
    {
     "name": "stdout",
     "output_type": "stream",
     "text": [
      "👻 District: 川师\n",
      "😈 Total real estate for sale:「375」\n"
     ]
    },
    {
     "name": "stderr",
     "output_type": "stream",
     "text": [
      "川师: 100%|\u001b[37m██████████\u001b[0m| 13/13 [00:29<00:00,  2.28s/it]\n"
     ]
    },
    {
     "name": "stdout",
     "output_type": "stream",
     "text": [
      "👻 District: 大面\n",
      "😈 Total real estate for sale:「2378」\n"
     ]
    },
    {
     "name": "stderr",
     "output_type": "stream",
     "text": [
      "大面: 100%|\u001b[37m██████████\u001b[0m| 80/80 [02:44<00:00,  2.05s/it]\n"
     ]
    },
    {
     "name": "stdout",
     "output_type": "stream",
     "text": [
      "👻 District: 东大路\n",
      "😈 Total real estate for sale:「257」\n"
     ]
    },
    {
     "name": "stderr",
     "output_type": "stream",
     "text": [
      "东大路: 100%|\u001b[37m██████████\u001b[0m| 9/9 [00:19<00:00,  2.17s/it]\n"
     ]
    },
    {
     "name": "stdout",
     "output_type": "stream",
     "text": [
      "👻 District: 东光小区\n",
      "😈 Total real estate for sale:「241」\n"
     ]
    },
    {
     "name": "stderr",
     "output_type": "stream",
     "text": [
      "东光小区: 100%|\u001b[37m██████████\u001b[0m| 9/9 [00:19<00:00,  2.12s/it]\n"
     ]
    },
    {
     "name": "stdout",
     "output_type": "stream",
     "text": [
      "👻 District: 东湖\n",
      "😈 Total real estate for sale:「621」\n"
     ]
    },
    {
     "name": "stderr",
     "output_type": "stream",
     "text": [
      "东湖: 100%|\u001b[37m██████████\u001b[0m| 21/21 [00:43<00:00,  2.05s/it]\n"
     ]
    },
    {
     "name": "stdout",
     "output_type": "stream",
     "text": [
      "👻 District: 东客站\n",
      "😈 Total real estate for sale:「276」\n"
     ]
    },
    {
     "name": "stderr",
     "output_type": "stream",
     "text": [
      "东客站: 100%|\u001b[37m██████████\u001b[0m| 10/10 [00:20<00:00,  2.00s/it]\n"
     ]
    },
    {
     "name": "stdout",
     "output_type": "stream",
     "text": [
      "👻 District: 合江亭\n",
      "😈 Total real estate for sale:「1140」\n"
     ]
    },
    {
     "name": "stderr",
     "output_type": "stream",
     "text": [
      "合江亭: 100%|\u001b[37m██████████\u001b[0m| 38/38 [01:19<00:00,  2.09s/it]\n"
     ]
    },
    {
     "name": "stdout",
     "output_type": "stream",
     "text": [
      "👻 District: 红星路\n",
      "😈 Total real estate for sale:「420」\n"
     ]
    },
    {
     "name": "stderr",
     "output_type": "stream",
     "text": [
      "红星路: 100%|\u001b[37m██████████\u001b[0m| 14/14 [00:31<00:00,  2.22s/it]\n"
     ]
    },
    {
     "name": "stdout",
     "output_type": "stream",
     "text": [
      "👻 District: 静居寺\n",
      "😈 Total real estate for sale:「305」\n"
     ]
    },
    {
     "name": "stderr",
     "output_type": "stream",
     "text": [
      "静居寺: 100%|\u001b[37m██████████\u001b[0m| 11/11 [00:22<00:00,  2.03s/it]\n"
     ]
    },
    {
     "name": "stdout",
     "output_type": "stream",
     "text": [
      "👻 District: 九眼桥\n",
      "😈 Total real estate for sale:「600」\n"
     ]
    },
    {
     "name": "stderr",
     "output_type": "stream",
     "text": [
      "九眼桥: 100%|\u001b[37m██████████\u001b[0m| 20/20 [00:44<00:00,  2.21s/it]\n"
     ]
    },
    {
     "name": "stdout",
     "output_type": "stream",
     "text": [
      "👻 District: 蓝谷地\n",
      "😈 Total real estate for sale:「290」\n"
     ]
    },
    {
     "name": "stderr",
     "output_type": "stream",
     "text": [
      "蓝谷地: 100%|\u001b[37m██████████\u001b[0m| 10/10 [00:21<00:00,  2.17s/it]\n"
     ]
    },
    {
     "name": "stdout",
     "output_type": "stream",
     "text": [
      "👻 District: 莲花\n",
      "😈 Total real estate for sale:「346」\n"
     ]
    },
    {
     "name": "stderr",
     "output_type": "stream",
     "text": [
      "莲花: 100%|\u001b[37m██████████\u001b[0m| 12/12 [00:26<00:00,  2.18s/it]\n"
     ]
    },
    {
     "name": "stdout",
     "output_type": "stream",
     "text": [
      "👻 District: 琉璃场\n",
      "😈 Total real estate for sale:「344」\n"
     ]
    },
    {
     "name": "stderr",
     "output_type": "stream",
     "text": [
      "琉璃场: 100%|\u001b[37m██████████\u001b[0m| 12/12 [00:26<00:00,  2.18s/it]\n"
     ]
    },
    {
     "name": "stdout",
     "output_type": "stream",
     "text": [
      "👻 District: 攀成钢\n",
      "😈 Total real estate for sale:「705」\n"
     ]
    },
    {
     "name": "stderr",
     "output_type": "stream",
     "text": [
      "攀成钢: 100%|\u001b[37m██████████\u001b[0m| 24/24 [00:52<00:00,  2.19s/it]\n"
     ]
    },
    {
     "name": "stdout",
     "output_type": "stream",
     "text": [
      "👻 District: 三官堂\n",
      "😈 Total real estate for sale:「412」\n"
     ]
    },
    {
     "name": "stderr",
     "output_type": "stream",
     "text": [
      "三官堂: 100%|\u001b[37m██████████\u001b[0m| 14/14 [00:33<00:00,  2.41s/it]\n"
     ]
    },
    {
     "name": "stdout",
     "output_type": "stream",
     "text": [
      "👻 District: 三圣乡\n",
      "😈 Total real estate for sale:「1737」\n"
     ]
    },
    {
     "name": "stderr",
     "output_type": "stream",
     "text": [
      "三圣乡: 100%|\u001b[37m██████████\u001b[0m| 58/58 [02:19<00:00,  2.40s/it]\n"
     ]
    },
    {
     "name": "stdout",
     "output_type": "stream",
     "text": [
      "👻 District: 沙河堡\n",
      "😈 Total real estate for sale:「643」\n"
     ]
    },
    {
     "name": "stderr",
     "output_type": "stream",
     "text": [
      "沙河堡: 100%|\u001b[37m██████████\u001b[0m| 22/22 [00:54<00:00,  2.48s/it]\n"
     ]
    },
    {
     "name": "stdout",
     "output_type": "stream",
     "text": [
      "👻 District: 水碾河\n",
      "😈 Total real estate for sale:「320」\n"
     ]
    },
    {
     "name": "stderr",
     "output_type": "stream",
     "text": [
      "水碾河: 100%|\u001b[37m██████████\u001b[0m| 11/11 [00:24<00:00,  2.26s/it]\n"
     ]
    },
    {
     "name": "stdout",
     "output_type": "stream",
     "text": [
      "👻 District: 盐市口\n",
      "😈 Total real estate for sale:「981」\n"
     ]
    },
    {
     "name": "stderr",
     "output_type": "stream",
     "text": [
      "盐市口: 100%|\u001b[37m██████████\u001b[0m| 33/33 [01:21<00:00,  2.47s/it]\n"
     ]
    },
    {
     "name": "stdout",
     "output_type": "stream",
     "text": [
      "👻 District: 卓锦城\n",
      "😈 Total real estate for sale:「783」\n"
     ]
    },
    {
     "name": "stderr",
     "output_type": "stream",
     "text": [
      "卓锦城: 100%|\u001b[37m██████████\u001b[0m| 27/27 [01:07<00:00,  2.49s/it]\n"
     ]
    },
    {
     "name": "stdout",
     "output_type": "stream",
     "text": [
      "👻 District: 八宝街\n",
      "😈 Total real estate for sale:「803」\n"
     ]
    },
    {
     "name": "stderr",
     "output_type": "stream",
     "text": [
      "八宝街: 100%|\u001b[37m██████████\u001b[0m| 27/27 [00:55<00:00,  2.06s/it]\n"
     ]
    },
    {
     "name": "stdout",
     "output_type": "stream",
     "text": [
      "👻 District: 贝森\n",
      "😈 Total real estate for sale:「522」\n"
     ]
    },
    {
     "name": "stderr",
     "output_type": "stream",
     "text": [
      "贝森: 100%|\u001b[37m██████████\u001b[0m| 18/18 [00:36<00:00,  2.05s/it]\n"
     ]
    },
    {
     "name": "stdout",
     "output_type": "stream",
     "text": [
      "👻 District: 草市街\n",
      "😈 Total real estate for sale:「712」\n"
     ]
    },
    {
     "name": "stderr",
     "output_type": "stream",
     "text": [
      "草市街: 100%|\u001b[37m██████████\u001b[0m| 24/24 [00:49<00:00,  2.05s/it]\n"
     ]
    },
    {
     "name": "stdout",
     "output_type": "stream",
     "text": [
      "👻 District: 草堂\n",
      "😈 Total real estate for sale:「282」\n"
     ]
    },
    {
     "name": "stderr",
     "output_type": "stream",
     "text": [
      "草堂: 100%|\u001b[37m██████████\u001b[0m| 10/10 [00:19<00:00,  1.99s/it]\n"
     ]
    },
    {
     "name": "stdout",
     "output_type": "stream",
     "text": [
      "👻 District: 府南新区\n",
      "😈 Total real estate for sale:「1061」\n"
     ]
    },
    {
     "name": "stderr",
     "output_type": "stream",
     "text": [
      "府南新区: 100%|\u001b[37m██████████\u001b[0m| 36/36 [01:13<00:00,  2.05s/it]\n"
     ]
    },
    {
     "name": "stdout",
     "output_type": "stream",
     "text": [
      "👻 District: 光华泡小\n",
      "😈 Total real estate for sale:「597」\n"
     ]
    },
    {
     "name": "stderr",
     "output_type": "stream",
     "text": [
      "光华泡小: 100%|\u001b[37m██████████\u001b[0m| 20/20 [00:41<00:00,  2.08s/it]\n"
     ]
    },
    {
     "name": "stdout",
     "output_type": "stream",
     "text": [
      "👻 District: 浣花溪\n",
      "😈 Total real estate for sale:「157」\n"
     ]
    },
    {
     "name": "stderr",
     "output_type": "stream",
     "text": [
      "浣花溪: 100%|\u001b[37m██████████\u001b[0m| 6/6 [00:11<00:00,  1.90s/it]\n"
     ]
    },
    {
     "name": "stdout",
     "output_type": "stream",
     "text": [
      "👻 District: 金沙\n",
      "😈 Total real estate for sale:「977」\n"
     ]
    },
    {
     "name": "stderr",
     "output_type": "stream",
     "text": [
      "金沙: 100%|\u001b[37m██████████\u001b[0m| 33/33 [01:10<00:00,  2.13s/it]\n"
     ]
    },
    {
     "name": "stdout",
     "output_type": "stream",
     "text": [
      "👻 District: 宽窄巷子\n",
      "😈 Total real estate for sale:「467」\n"
     ]
    },
    {
     "name": "stderr",
     "output_type": "stream",
     "text": [
      "宽窄巷子: 100%|\u001b[37m██████████\u001b[0m| 16/16 [00:32<00:00,  2.04s/it]\n"
     ]
    },
    {
     "name": "stdout",
     "output_type": "stream",
     "text": [
      "👻 District: 人民公园\n",
      "😈 Total real estate for sale:「618」\n"
     ]
    },
    {
     "name": "stderr",
     "output_type": "stream",
     "text": [
      "人民公园: 100%|\u001b[37m██████████\u001b[0m| 21/21 [00:46<00:00,  2.19s/it]\n"
     ]
    },
    {
     "name": "stdout",
     "output_type": "stream",
     "text": [
      "👻 District: 蜀汉路\n",
      "😈 Total real estate for sale:「425」\n"
     ]
    },
    {
     "name": "stderr",
     "output_type": "stream",
     "text": [
      "蜀汉路: 100%|\u001b[37m██████████\u001b[0m| 15/15 [00:34<00:00,  2.33s/it]\n"
     ]
    },
    {
     "name": "stdout",
     "output_type": "stream",
     "text": [
      "👻 District: 太升路\n",
      "😈 Total real estate for sale:「725」\n"
     ]
    },
    {
     "name": "stderr",
     "output_type": "stream",
     "text": [
      "太升路: 100%|\u001b[37m██████████\u001b[0m| 25/25 [00:53<00:00,  2.14s/it]\n"
     ]
    },
    {
     "name": "stdout",
     "output_type": "stream",
     "text": [
      "👻 District: 外光华\n",
      "😈 Total real estate for sale:「1506」\n"
     ]
    },
    {
     "name": "stderr",
     "output_type": "stream",
     "text": [
      "外光华: 100%|\u001b[37m██████████\u001b[0m| 51/51 [01:54<00:00,  2.24s/it]\n"
     ]
    },
    {
     "name": "stdout",
     "output_type": "stream",
     "text": [
      "👻 District: 外金沙\n",
      "😈 Total real estate for sale:「746」\n"
     ]
    },
    {
     "name": "stderr",
     "output_type": "stream",
     "text": [
      "外金沙: 100%|\u001b[37m██████████\u001b[0m| 25/25 [00:58<00:00,  2.34s/it]\n"
     ]
    },
    {
     "name": "stdout",
     "output_type": "stream",
     "text": [
      "👻 District: 万家湾\n",
      "😈 Total real estate for sale:「486」\n"
     ]
    },
    {
     "name": "stderr",
     "output_type": "stream",
     "text": [
      "万家湾: 100%|\u001b[37m██████████\u001b[0m| 17/17 [00:39<00:00,  2.30s/it]\n"
     ]
    },
    {
     "name": "stdout",
     "output_type": "stream",
     "text": [
      "👻 District: 西南财大\n",
      "😈 Total real estate for sale:「458」\n"
     ]
    },
    {
     "name": "stderr",
     "output_type": "stream",
     "text": [
      "西南财大: 100%|\u001b[37m██████████\u001b[0m| 16/16 [00:37<00:00,  2.35s/it]\n"
     ]
    },
    {
     "name": "stdout",
     "output_type": "stream",
     "text": [
      "👻 District: 盐市口\n",
      "😈 Total real estate for sale:「981」\n"
     ]
    },
    {
     "name": "stderr",
     "output_type": "stream",
     "text": [
      "盐市口: 100%|\u001b[37m██████████\u001b[0m| 33/33 [01:22<00:00,  2.49s/it]\n"
     ]
    },
    {
     "name": "stdout",
     "output_type": "stream",
     "text": [
      "👻 District: 优品道\n",
      "😈 Total real estate for sale:「253」\n"
     ]
    },
    {
     "name": "stderr",
     "output_type": "stream",
     "text": [
      "优品道: 100%|\u001b[37m██████████\u001b[0m| 9/9 [00:22<00:00,  2.45s/it]\n"
     ]
    },
    {
     "name": "stdout",
     "output_type": "stream",
     "text": [
      "👻 District: 草金立交\n",
      "😈 Total real estate for sale:「669」\n"
     ]
    },
    {
     "name": "stderr",
     "output_type": "stream",
     "text": [
      "草金立交: 100%|\u001b[37m██████████\u001b[0m| 23/23 [00:46<00:00,  2.01s/it]\n"
     ]
    },
    {
     "name": "stdout",
     "output_type": "stream",
     "text": [
      "👻 District: 川大\n",
      "😈 Total real estate for sale:「338」\n"
     ]
    },
    {
     "name": "stderr",
     "output_type": "stream",
     "text": [
      "川大: 100%|\u001b[37m██████████\u001b[0m| 12/12 [00:24<00:00,  2.06s/it]\n"
     ]
    },
    {
     "name": "stdout",
     "output_type": "stream",
     "text": [
      "👻 District: 川音\n",
      "😈 Total real estate for sale:「574」\n"
     ]
    },
    {
     "name": "stderr",
     "output_type": "stream",
     "text": [
      "川音: 100%|\u001b[37m██████████\u001b[0m| 20/20 [00:42<00:00,  2.10s/it]\n"
     ]
    },
    {
     "name": "stdout",
     "output_type": "stream",
     "text": [
      "👻 District: 簇桥\n",
      "😈 Total real estate for sale:「406」\n"
     ]
    },
    {
     "name": "stderr",
     "output_type": "stream",
     "text": [
      "簇桥: 100%|\u001b[37m██████████\u001b[0m| 14/14 [00:28<00:00,  2.03s/it]\n"
     ]
    },
    {
     "name": "stdout",
     "output_type": "stream",
     "text": [
      "👻 District: 高升桥\n",
      "😈 Total real estate for sale:「318」\n"
     ]
    },
    {
     "name": "stderr",
     "output_type": "stream",
     "text": [
      "高升桥: 100%|\u001b[37m██████████\u001b[0m| 11/11 [00:24<00:00,  2.23s/it]\n"
     ]
    },
    {
     "name": "stdout",
     "output_type": "stream",
     "text": [
      "👻 District: 广福桥\n",
      "😈 Total real estate for sale:「163」\n"
     ]
    },
    {
     "name": "stderr",
     "output_type": "stream",
     "text": [
      "广福桥: 100%|\u001b[37m██████████\u001b[0m| 6/6 [00:15<00:00,  2.65s/it]\n"
     ]
    },
    {
     "name": "stdout",
     "output_type": "stream",
     "text": [
      "👻 District: 航空路\n",
      "😈 Total real estate for sale:「452」\n"
     ]
    },
    {
     "name": "stderr",
     "output_type": "stream",
     "text": [
      "航空路: 100%|\u001b[37m██████████\u001b[0m| 16/16 [00:35<00:00,  2.21s/it]\n"
     ]
    },
    {
     "name": "stdout",
     "output_type": "stream",
     "text": [
      "👻 District: 红牌楼\n",
      "😈 Total real estate for sale:「741」\n"
     ]
    },
    {
     "name": "stderr",
     "output_type": "stream",
     "text": [
      "红牌楼: 100%|\u001b[37m██████████\u001b[0m| 25/25 [00:59<00:00,  2.36s/it]\n"
     ]
    },
    {
     "name": "stdout",
     "output_type": "stream",
     "text": [
      "👻 District: 华西\n",
      "😈 Total real estate for sale:「283」\n"
     ]
    },
    {
     "name": "stderr",
     "output_type": "stream",
     "text": [
      "华西: 100%|\u001b[37m██████████\u001b[0m| 10/10 [00:23<00:00,  2.37s/it]\n"
     ]
    },
    {
     "name": "stdout",
     "output_type": "stream",
     "text": [
      "👻 District: 火车南站\n",
      "😈 Total real estate for sale:「356」\n"
     ]
    },
    {
     "name": "stderr",
     "output_type": "stream",
     "text": [
      "火车南站: 100%|\u001b[37m██████████\u001b[0m| 12/12 [00:26<00:00,  2.20s/it]\n"
     ]
    },
    {
     "name": "stdout",
     "output_type": "stream",
     "text": [
      "👻 District: 丽都\n",
      "😈 Total real estate for sale:「559」\n"
     ]
    },
    {
     "name": "stderr",
     "output_type": "stream",
     "text": [
      "丽都: 100%|\u001b[37m██████████\u001b[0m| 19/19 [00:42<00:00,  2.24s/it]\n"
     ]
    },
    {
     "name": "stdout",
     "output_type": "stream",
     "text": [
      "👻 District: 龙湾\n",
      "😈 Total real estate for sale:「254」\n"
     ]
    },
    {
     "name": "stderr",
     "output_type": "stream",
     "text": [
      "龙湾: 100%|\u001b[37m██████████\u001b[0m| 9/9 [00:18<00:00,  2.09s/it]\n"
     ]
    },
    {
     "name": "stdout",
     "output_type": "stream",
     "text": [
      "👻 District: 双楠\n",
      "😈 Total real estate for sale:「772」\n"
     ]
    },
    {
     "name": "stderr",
     "output_type": "stream",
     "text": [
      "双楠: 100%|\u001b[37m██████████\u001b[0m| 26/26 [00:57<00:00,  2.23s/it]\n"
     ]
    },
    {
     "name": "stdout",
     "output_type": "stream",
     "text": [
      "👻 District: 桐梓林\n",
      "😈 Total real estate for sale:「532」\n"
     ]
    },
    {
     "name": "stderr",
     "output_type": "stream",
     "text": [
      "桐梓林: 100%|\u001b[37m██████████\u001b[0m| 18/18 [00:42<00:00,  2.34s/it]\n"
     ]
    },
    {
     "name": "stdout",
     "output_type": "stream",
     "text": [
      "👻 District: 外双楠\n",
      "😈 Total real estate for sale:「829」\n"
     ]
    },
    {
     "name": "stderr",
     "output_type": "stream",
     "text": [
      "外双楠: 100%|\u001b[37m██████████\u001b[0m| 28/28 [01:04<00:00,  2.31s/it]\n"
     ]
    },
    {
     "name": "stdout",
     "output_type": "stream",
     "text": [
      "👻 District: 五大花园\n",
      "😈 Total real estate for sale:「1018」\n"
     ]
    },
    {
     "name": "stderr",
     "output_type": "stream",
     "text": [
      "五大花园: 100%|\u001b[37m██████████\u001b[0m| 34/34 [01:18<00:00,  2.32s/it]\n"
     ]
    },
    {
     "name": "stdout",
     "output_type": "stream",
     "text": [
      "👻 District: 武侯祠\n",
      "😈 Total real estate for sale:「75」\n"
     ]
    },
    {
     "name": "stderr",
     "output_type": "stream",
     "text": [
      "武侯祠: 100%|\u001b[37m██████████\u001b[0m| 3/3 [00:06<00:00,  2.20s/it]\n"
     ]
    },
    {
     "name": "stdout",
     "output_type": "stream",
     "text": [
      "👻 District: 武侯立交\n",
      "😈 Total real estate for sale:「586」\n"
     ]
    },
    {
     "name": "stderr",
     "output_type": "stream",
     "text": [
      "武侯立交: 100%|\u001b[37m██████████\u001b[0m| 20/20 [00:48<00:00,  2.42s/it]\n"
     ]
    },
    {
     "name": "stdout",
     "output_type": "stream",
     "text": [
      "👻 District: 新双楠\n",
      "😈 Total real estate for sale:「378」\n"
     ]
    },
    {
     "name": "stderr",
     "output_type": "stream",
     "text": [
      "新双楠: 100%|\u001b[37m██████████\u001b[0m| 13/13 [00:31<00:00,  2.40s/it]\n"
     ]
    },
    {
     "name": "stdout",
     "output_type": "stream",
     "text": [
      "👻 District: 玉林\n",
      "😈 Total real estate for sale:「292」\n"
     ]
    },
    {
     "name": "stderr",
     "output_type": "stream",
     "text": [
      "玉林: 100%|\u001b[37m██████████\u001b[0m| 10/10 [00:26<00:00,  2.62s/it]\n"
     ]
    },
    {
     "name": "stdout",
     "output_type": "stream",
     "text": [
      "👻 District: 棕北\n",
      "😈 Total real estate for sale:「661」\n"
     ]
    },
    {
     "name": "stderr",
     "output_type": "stream",
     "text": [
      "棕北: 100%|\u001b[37m██████████\u001b[0m| 23/23 [00:53<00:00,  2.32s/it]\n"
     ]
    },
    {
     "name": "stdout",
     "output_type": "stream",
     "text": [
      "👻 District: 八宝街\n",
      "😈 Total real estate for sale:「803」\n"
     ]
    },
    {
     "name": "stderr",
     "output_type": "stream",
     "text": [
      "八宝街: 100%|\u001b[37m██████████\u001b[0m| 27/27 [00:58<00:00,  2.17s/it]\n"
     ]
    },
    {
     "name": "stdout",
     "output_type": "stream",
     "text": [
      "👻 District: 茶店子\n",
      "😈 Total real estate for sale:「787」\n"
     ]
    },
    {
     "name": "stderr",
     "output_type": "stream",
     "text": [
      "茶店子: 100%|\u001b[37m██████████\u001b[0m| 27/27 [00:59<00:00,  2.21s/it]\n"
     ]
    },
    {
     "name": "stdout",
     "output_type": "stream",
     "text": [
      "👻 District: 抚琴小区\n",
      "😈 Total real estate for sale:「490」\n"
     ]
    },
    {
     "name": "stderr",
     "output_type": "stream",
     "text": [
      "抚琴小区: 100%|\u001b[37m██████████\u001b[0m| 17/17 [00:37<00:00,  2.23s/it]\n"
     ]
    },
    {
     "name": "stdout",
     "output_type": "stream",
     "text": [
      "👻 District: 高家庄\n",
      "😈 Total real estate for sale:「773」\n"
     ]
    },
    {
     "name": "stderr",
     "output_type": "stream",
     "text": [
      "高家庄: 100%|\u001b[37m██████████\u001b[0m| 26/26 [01:03<00:00,  2.43s/it]\n"
     ]
    },
    {
     "name": "stdout",
     "output_type": "stream",
     "text": [
      "👻 District: 国宾\n",
      "😈 Total real estate for sale:「699」\n"
     ]
    },
    {
     "name": "stderr",
     "output_type": "stream",
     "text": [
      "国宾: 100%|\u001b[37m██████████\u001b[0m| 24/24 [00:58<00:00,  2.43s/it]\n"
     ]
    },
    {
     "name": "stdout",
     "output_type": "stream",
     "text": [
      "👻 District: 花牌坊\n",
      "😈 Total real estate for sale:「861」\n"
     ]
    },
    {
     "name": "stderr",
     "output_type": "stream",
     "text": [
      "花牌坊: 100%|\u001b[37m██████████\u001b[0m| 29/29 [01:10<00:00,  2.41s/it]\n"
     ]
    },
    {
     "name": "stdout",
     "output_type": "stream",
     "text": [
      "👻 District: 华侨城\n",
      "😈 Total real estate for sale:「313」\n"
     ]
    },
    {
     "name": "stderr",
     "output_type": "stream",
     "text": [
      "华侨城: 100%|\u001b[37m██████████\u001b[0m| 11/11 [00:26<00:00,  2.39s/it]\n"
     ]
    },
    {
     "name": "stdout",
     "output_type": "stream",
     "text": [
      "👻 District: 花照壁\n",
      "😈 Total real estate for sale:「410」\n"
     ]
    },
    {
     "name": "stderr",
     "output_type": "stream",
     "text": [
      "花照壁: 100%|\u001b[37m██████████\u001b[0m| 14/14 [00:31<00:00,  2.23s/it]\n"
     ]
    },
    {
     "name": "stdout",
     "output_type": "stream",
     "text": [
      "👻 District: 金府\n",
      "😈 Total real estate for sale:「388」\n"
     ]
    },
    {
     "name": "stderr",
     "output_type": "stream",
     "text": [
      "金府: 100%|\u001b[37m██████████\u001b[0m| 13/13 [00:34<00:00,  2.65s/it]\n"
     ]
    },
    {
     "name": "stdout",
     "output_type": "stream",
     "text": [
      "👻 District: 金牛万达\n",
      "😈 Total real estate for sale:「1271」\n"
     ]
    },
    {
     "name": "stderr",
     "output_type": "stream",
     "text": [
      "金牛万达: 100%|\u001b[37m██████████\u001b[0m| 43/43 [01:39<00:00,  2.31s/it]\n"
     ]
    },
    {
     "name": "stdout",
     "output_type": "stream",
     "text": [
      "👻 District: 九里堤\n",
      "😈 Total real estate for sale:「254」\n"
     ]
    },
    {
     "name": "stderr",
     "output_type": "stream",
     "text": [
      "九里堤: 100%|\u001b[37m██████████\u001b[0m| 9/9 [00:21<00:00,  2.38s/it]\n"
     ]
    },
    {
     "name": "stdout",
     "output_type": "stream",
     "text": [
      "👻 District: 马鞍路\n",
      "😈 Total real estate for sale:「535」\n"
     ]
    },
    {
     "name": "stderr",
     "output_type": "stream",
     "text": [
      "马鞍路: 100%|\u001b[37m██████████\u001b[0m| 18/18 [00:43<00:00,  2.41s/it]\n"
     ]
    },
    {
     "name": "stdout",
     "output_type": "stream",
     "text": [
      "👻 District: 沙湾\n",
      "😈 Total real estate for sale:「740」\n"
     ]
    },
    {
     "name": "stderr",
     "output_type": "stream",
     "text": [
      "沙湾: 100%|\u001b[37m██████████\u001b[0m| 25/25 [01:02<00:00,  2.49s/it]\n"
     ]
    },
    {
     "name": "stdout",
     "output_type": "stream",
     "text": [
      "👻 District: 石人小区\n",
      "😈 Total real estate for sale:「238」\n"
     ]
    },
    {
     "name": "stderr",
     "output_type": "stream",
     "text": [
      "石人小区: 100%|\u001b[37m██████████\u001b[0m| 8/8 [00:21<00:00,  2.74s/it]\n"
     ]
    },
    {
     "name": "stdout",
     "output_type": "stream",
     "text": [
      "👻 District: 蜀汉路\n",
      "😈 Total real estate for sale:「425」\n"
     ]
    },
    {
     "name": "stderr",
     "output_type": "stream",
     "text": [
      "蜀汉路: 100%|\u001b[37m██████████\u001b[0m| 15/15 [00:35<00:00,  2.34s/it]\n"
     ]
    },
    {
     "name": "stdout",
     "output_type": "stream",
     "text": [
      "👻 District: 天回镇\n",
      "😈 Total real estate for sale:「211」\n"
     ]
    },
    {
     "name": "stderr",
     "output_type": "stream",
     "text": [
      "天回镇: 100%|\u001b[37m██████████\u001b[0m| 8/8 [00:19<00:00,  2.46s/it]\n"
     ]
    },
    {
     "name": "stdout",
     "output_type": "stream",
     "text": [
      "👻 District: 通惠门\n",
      "😈 Total real estate for sale:「332」\n"
     ]
    },
    {
     "name": "stderr",
     "output_type": "stream",
     "text": [
      "通惠门: 100%|\u001b[37m██████████\u001b[0m| 12/12 [00:28<00:00,  2.35s/it]\n"
     ]
    },
    {
     "name": "stdout",
     "output_type": "stream",
     "text": [
      "👻 District: 五块石\n",
      "😈 Total real estate for sale:「971」\n"
     ]
    },
    {
     "name": "stderr",
     "output_type": "stream",
     "text": [
      "五块石: 100%|\u001b[37m██████████\u001b[0m| 33/33 [01:23<00:00,  2.53s/it]\n"
     ]
    },
    {
     "name": "stdout",
     "output_type": "stream",
     "text": [
      "👻 District: 西南交大\n",
      "😈 Total real estate for sale:「346」\n"
     ]
    },
    {
     "name": "stderr",
     "output_type": "stream",
     "text": [
      "西南交大: 100%|\u001b[37m██████████\u001b[0m| 12/12 [00:29<00:00,  2.45s/it]\n"
     ]
    },
    {
     "name": "stdout",
     "output_type": "stream",
     "text": [
      "👻 District: 营门口\n",
      "😈 Total real estate for sale:「654」\n"
     ]
    },
    {
     "name": "stderr",
     "output_type": "stream",
     "text": [
      "营门口: 100%|\u001b[37m██████████\u001b[0m| 22/22 [00:56<00:00,  2.58s/it]\n"
     ]
    },
    {
     "name": "stdout",
     "output_type": "stream",
     "text": [
      "👻 District: 一品天下\n",
      "😈 Total real estate for sale:「650」\n"
     ]
    },
    {
     "name": "stderr",
     "output_type": "stream",
     "text": [
      "一品天下: 100%|\u001b[37m██████████\u001b[0m| 22/22 [00:54<00:00,  2.50s/it]\n"
     ]
    },
    {
     "name": "stdout",
     "output_type": "stream",
     "text": [
      "👻 District: 城南宜家\n",
      "😈 Total real estate for sale:「262」\n"
     ]
    },
    {
     "name": "stderr",
     "output_type": "stream",
     "text": [
      "城南宜家: 100%|\u001b[37m██████████\u001b[0m| 9/9 [00:19<00:00,  2.18s/it]\n"
     ]
    },
    {
     "name": "stdout",
     "output_type": "stream",
     "text": [
      "👻 District: 大源\n",
      "😈 Total real estate for sale:「1747」\n"
     ]
    },
    {
     "name": "stderr",
     "output_type": "stream",
     "text": [
      "大源: 100%|\u001b[37m██████████\u001b[0m| 59/59 [02:12<00:00,  2.25s/it]\n"
     ]
    },
    {
     "name": "stdout",
     "output_type": "stream",
     "text": [
      "👻 District: 东苑\n",
      "😈 Total real estate for sale:「329」\n"
     ]
    },
    {
     "name": "stderr",
     "output_type": "stream",
     "text": [
      "东苑: 100%|\u001b[37m██████████\u001b[0m| 11/11 [00:24<00:00,  2.23s/it]\n"
     ]
    },
    {
     "name": "stdout",
     "output_type": "stream",
     "text": [
      "👻 District: 芳草\n",
      "😈 Total real estate for sale:「421」\n"
     ]
    },
    {
     "name": "stderr",
     "output_type": "stream",
     "text": [
      "芳草: 100%|\u001b[37m██████████\u001b[0m| 15/15 [00:37<00:00,  2.49s/it]\n"
     ]
    },
    {
     "name": "stdout",
     "output_type": "stream",
     "text": [
      "👻 District: 高朋\n",
      "😈 Total real estate for sale:「54」\n"
     ]
    },
    {
     "name": "stderr",
     "output_type": "stream",
     "text": [
      "高朋: 100%|\u001b[37m██████████\u001b[0m| 2/2 [00:04<00:00,  2.28s/it]\n"
     ]
    },
    {
     "name": "stdout",
     "output_type": "stream",
     "text": [
      "👻 District: 广都\n",
      "😈 Total real estate for sale:「850」\n"
     ]
    },
    {
     "name": "stderr",
     "output_type": "stream",
     "text": [
      "广都: 100%|\u001b[37m██████████\u001b[0m| 29/29 [01:06<00:00,  2.28s/it]\n"
     ]
    },
    {
     "name": "stdout",
     "output_type": "stream",
     "text": [
      "👻 District: 华府\n",
      "😈 Total real estate for sale:「1071」\n"
     ]
    },
    {
     "name": "stderr",
     "output_type": "stream",
     "text": [
      "华府: 100%|\u001b[37m██████████\u001b[0m| 36/36 [01:22<00:00,  2.30s/it]\n"
     ]
    },
    {
     "name": "stdout",
     "output_type": "stream",
     "text": [
      "👻 District: 华阳\n",
      "😈 Total real estate for sale:「1807」\n"
     ]
    },
    {
     "name": "stderr",
     "output_type": "stream",
     "text": [
      "华阳: 100%|\u001b[37m██████████\u001b[0m| 61/61 [02:20<00:00,  2.31s/it]\n"
     ]
    },
    {
     "name": "stdout",
     "output_type": "stream",
     "text": [
      "👻 District: 金融城\n",
      "😈 Total real estate for sale:「1043」\n"
     ]
    },
    {
     "name": "stderr",
     "output_type": "stream",
     "text": [
      "金融城: 100%|\u001b[37m██████████\u001b[0m| 35/35 [01:16<00:00,  2.19s/it]\n"
     ]
    },
    {
     "name": "stdout",
     "output_type": "stream",
     "text": [
      "👻 District: 丽都\n",
      "😈 Total real estate for sale:「559」\n"
     ]
    },
    {
     "name": "stderr",
     "output_type": "stream",
     "text": [
      "丽都: 100%|\u001b[37m██████████\u001b[0m| 19/19 [00:43<00:00,  2.28s/it]\n"
     ]
    },
    {
     "name": "stdout",
     "output_type": "stream",
     "text": [
      "👻 District: 神仙树\n",
      "😈 Total real estate for sale:「558」\n"
     ]
    },
    {
     "name": "stderr",
     "output_type": "stream",
     "text": [
      "神仙树: 100%|\u001b[37m██████████\u001b[0m| 19/19 [00:47<00:00,  2.52s/it]\n"
     ]
    },
    {
     "name": "stdout",
     "output_type": "stream",
     "text": [
      "👻 District: 市一医院\n",
      "😈 Total real estate for sale:「717」\n"
     ]
    },
    {
     "name": "stderr",
     "output_type": "stream",
     "text": [
      "市一医院: 100%|\u001b[37m██████████\u001b[0m| 24/24 [01:00<00:00,  2.53s/it]\n"
     ]
    },
    {
     "name": "stdout",
     "output_type": "stream",
     "text": [
      "👻 District: 天府长城\n",
      "😈 Total real estate for sale:「248」\n"
     ]
    },
    {
     "name": "stderr",
     "output_type": "stream",
     "text": [
      "天府长城: 100%|\u001b[37m██████████\u001b[0m| 9/9 [00:25<00:00,  2.84s/it]\n"
     ]
    },
    {
     "name": "stdout",
     "output_type": "stream",
     "text": [
      "👻 District: 新北\n",
      "😈 Total real estate for sale:「330」\n"
     ]
    },
    {
     "name": "stderr",
     "output_type": "stream",
     "text": [
      "新北: 100%|\u001b[37m██████████\u001b[0m| 11/11 [00:29<00:00,  2.68s/it]\n"
     ]
    },
    {
     "name": "stdout",
     "output_type": "stream",
     "text": [
      "👻 District: 新会展\n",
      "😈 Total real estate for sale:「1021」\n"
     ]
    },
    {
     "name": "stderr",
     "output_type": "stream",
     "text": [
      "新会展: 100%|\u001b[37m██████████\u001b[0m| 35/35 [01:29<00:00,  2.55s/it]\n"
     ]
    },
    {
     "name": "stdout",
     "output_type": "stream",
     "text": [
      "👻 District: 新双楠\n",
      "😈 Total real estate for sale:「378」\n"
     ]
    },
    {
     "name": "stderr",
     "output_type": "stream",
     "text": [
      "新双楠: 100%|\u001b[37m██████████\u001b[0m| 13/13 [00:32<00:00,  2.51s/it]\n"
     ]
    },
    {
     "name": "stdout",
     "output_type": "stream",
     "text": [
      "👻 District: 衣冠庙\n",
      "😈 Total real estate for sale:「393」\n"
     ]
    },
    {
     "name": "stderr",
     "output_type": "stream",
     "text": [
      "衣冠庙: 100%|\u001b[37m██████████\u001b[0m| 14/14 [00:38<00:00,  2.72s/it]\n"
     ]
    },
    {
     "name": "stdout",
     "output_type": "stream",
     "text": [
      "👻 District: 远大\n",
      "😈 Total real estate for sale:「600」\n"
     ]
    },
    {
     "name": "stderr",
     "output_type": "stream",
     "text": [
      "远大: 100%|\u001b[37m██████████\u001b[0m| 20/20 [00:51<00:00,  2.57s/it]\n"
     ]
    },
    {
     "name": "stdout",
     "output_type": "stream",
     "text": [
      "👻 District: 中德\n",
      "😈 Total real estate for sale:「556」\n"
     ]
    },
    {
     "name": "stderr",
     "output_type": "stream",
     "text": [
      "中德: 100%|\u001b[37m██████████\u001b[0m| 19/19 [00:51<00:00,  2.72s/it]\n"
     ]
    },
    {
     "name": "stdout",
     "output_type": "stream",
     "text": [
      "👻 District: 中和\n",
      "😈 Total real estate for sale:「978」\n"
     ]
    },
    {
     "name": "stderr",
     "output_type": "stream",
     "text": [
      "中和: 100%|\u001b[37m██████████\u001b[0m| 33/33 [01:37<00:00,  2.95s/it]\n"
     ]
    },
    {
     "name": "stdout",
     "output_type": "stream",
     "text": [
      "👻 District: 紫荆\n",
      "😈 Total real estate for sale:「423」\n"
     ]
    },
    {
     "name": "stderr",
     "output_type": "stream",
     "text": [
      "紫荆: 100%|\u001b[37m██████████\u001b[0m| 15/15 [00:37<00:00,  2.53s/it]\n"
     ]
    },
    {
     "name": "stdout",
     "output_type": "stream",
     "text": [
      "👻 District: 八里小区\n",
      "😈 Total real estate for sale:「1154」\n"
     ]
    },
    {
     "name": "stderr",
     "output_type": "stream",
     "text": [
      "八里小区: 100%|\u001b[37m██████████\u001b[0m| 39/39 [01:29<00:00,  2.28s/it]\n"
     ]
    },
    {
     "name": "stdout",
     "output_type": "stream",
     "text": [
      "👻 District: 成渝立交\n",
      "😈 Total real estate for sale:「576」\n"
     ]
    },
    {
     "name": "stderr",
     "output_type": "stream",
     "text": [
      "成渝立交: 100%|\u001b[37m██████████\u001b[0m| 20/20 [00:45<00:00,  2.26s/it]\n"
     ]
    },
    {
     "name": "stdout",
     "output_type": "stream",
     "text": [
      "👻 District: 东郊记忆\n",
      "😈 Total real estate for sale:「502」\n"
     ]
    },
    {
     "name": "stderr",
     "output_type": "stream",
     "text": [
      "东郊记忆: 100%|\u001b[37m██████████\u001b[0m| 17/17 [00:42<00:00,  2.51s/it]\n"
     ]
    },
    {
     "name": "stdout",
     "output_type": "stream",
     "text": [
      "👻 District: 东客站\n",
      "😈 Total real estate for sale:「276」\n"
     ]
    },
    {
     "name": "stderr",
     "output_type": "stream",
     "text": [
      "东客站: 100%|\u001b[37m██████████\u001b[0m| 10/10 [00:23<00:00,  2.37s/it]\n"
     ]
    },
    {
     "name": "stdout",
     "output_type": "stream",
     "text": [
      "👻 District: 动物园\n",
      "😈 Total real estate for sale:「850」\n"
     ]
    },
    {
     "name": "stderr",
     "output_type": "stream",
     "text": [
      "动物园: 100%|\u001b[37m██████████\u001b[0m| 29/29 [01:10<00:00,  2.41s/it]\n"
     ]
    },
    {
     "name": "stdout",
     "output_type": "stream",
     "text": [
      "👻 District: 建设路\n",
      "😈 Total real estate for sale:「508」\n"
     ]
    },
    {
     "name": "stderr",
     "output_type": "stream",
     "text": [
      "建设路: 100%|\u001b[37m██████████\u001b[0m| 17/17 [00:40<00:00,  2.40s/it]\n"
     ]
    },
    {
     "name": "stdout",
     "output_type": "stream",
     "text": [
      "👻 District: 理工大\n",
      "😈 Total real estate for sale:「456」\n"
     ]
    },
    {
     "name": "stderr",
     "output_type": "stream",
     "text": [
      "理工大: 100%|\u001b[37m██████████\u001b[0m| 16/16 [00:36<00:00,  2.25s/it]\n"
     ]
    },
    {
     "name": "stdout",
     "output_type": "stream",
     "text": [
      "👻 District: 李家沱\n",
      "😈 Total real estate for sale:「551」\n"
     ]
    },
    {
     "name": "stderr",
     "output_type": "stream",
     "text": [
      "李家沱: 100%|\u001b[37m██████████\u001b[0m| 19/19 [00:40<00:00,  2.13s/it]\n"
     ]
    },
    {
     "name": "stdout",
     "output_type": "stream",
     "text": [
      "👻 District: 龙潭寺\n",
      "😈 Total real estate for sale:「629」\n"
     ]
    },
    {
     "name": "stderr",
     "output_type": "stream",
     "text": [
      "龙潭寺: 100%|\u001b[37m██████████\u001b[0m| 21/21 [00:47<00:00,  2.25s/it]\n"
     ]
    },
    {
     "name": "stdout",
     "output_type": "stream",
     "text": [
      "👻 District: 猛追湾\n",
      "😈 Total real estate for sale:「699」\n"
     ]
    },
    {
     "name": "stderr",
     "output_type": "stream",
     "text": [
      "猛追湾: 100%|\u001b[37m██████████\u001b[0m| 24/24 [00:59<00:00,  2.46s/it]\n"
     ]
    },
    {
     "name": "stdout",
     "output_type": "stream",
     "text": [
      "👻 District: 沙河堡\n",
      "😈 Total real estate for sale:「643」\n"
     ]
    },
    {
     "name": "stderr",
     "output_type": "stream",
     "text": [
      "沙河堡: 100%|\u001b[37m██████████\u001b[0m| 22/22 [00:49<00:00,  2.24s/it]\n"
     ]
    },
    {
     "name": "stdout",
     "output_type": "stream",
     "text": [
      "👻 District: 驷马桥\n",
      "😈 Total real estate for sale:「1700」\n"
     ]
    },
    {
     "name": "stderr",
     "output_type": "stream",
     "text": [
      "驷马桥: 100%|\u001b[37m██████████\u001b[0m| 57/57 [02:20<00:00,  2.47s/it]\n"
     ]
    },
    {
     "name": "stdout",
     "output_type": "stream",
     "text": [
      "👻 District: SM广场\n",
      "😈 Total real estate for sale:「325」\n"
     ]
    },
    {
     "name": "stderr",
     "output_type": "stream",
     "text": [
      "SM广场: 100%|\u001b[37m██████████\u001b[0m| 11/11 [00:29<00:00,  2.72s/it]\n"
     ]
    },
    {
     "name": "stdout",
     "output_type": "stream",
     "text": [
      "👻 District: 万年场\n",
      "😈 Total real estate for sale:「1272」\n"
     ]
    },
    {
     "name": "stderr",
     "output_type": "stream",
     "text": [
      "万年场: 100%|\u001b[37m██████████\u001b[0m| 43/43 [01:51<00:00,  2.58s/it]\n"
     ]
    },
    {
     "name": "stdout",
     "output_type": "stream",
     "text": [
      "👻 District: 万象城\n",
      "😈 Total real estate for sale:「930」\n"
     ]
    },
    {
     "name": "stderr",
     "output_type": "stream",
     "text": [
      "万象城: 100%|\u001b[37m██████████\u001b[0m| 31/31 [01:21<00:00,  2.64s/it]\n"
     ]
    },
    {
     "name": "stdout",
     "output_type": "stream",
     "text": [
      "👻 District: 新华公园\n",
      "😈 Total real estate for sale:「777」\n"
     ]
    },
    {
     "name": "stderr",
     "output_type": "stream",
     "text": [
      "新华公园: 100%|\u001b[37m██████████\u001b[0m| 26/26 [01:12<00:00,  2.78s/it]\n"
     ]
    }
   ],
   "source": [
    "inner_data = pd.DataFrame()\n",
    "outer_data = pd.DataFrame()\n",
    "cd_data = pd.DataFrame()\n",
    "for district in inner_districts:\n",
    "    district_data = scrap('cd',district)\n",
    "    inner_data = pd.concat([inner_data, district_data])"
   ]
  },
  {
   "cell_type": "code",
   "execution_count": 132,
   "id": "f08b4269",
   "metadata": {},
   "outputs": [
    {
     "name": "stdout",
     "output_type": "stream",
     "text": [
      "👻 District: 海洋公园\n",
      "😈 Total real estate for sale:「770」\n"
     ]
    },
    {
     "name": "stderr",
     "output_type": "stream",
     "text": [
      "海洋公园: 100%|\u001b[37m██████████\u001b[0m| 26/26 [01:01<00:00,  2.36s/it]\n"
     ]
    },
    {
     "name": "stdout",
     "output_type": "stream",
     "text": [
      "👻 District: 华阳\n",
      "😈 Total real estate for sale:「1807」\n"
     ]
    },
    {
     "name": "stderr",
     "output_type": "stream",
     "text": [
      "华阳: 100%|\u001b[37m██████████\u001b[0m| 61/61 [02:31<00:00,  2.48s/it]\n"
     ]
    },
    {
     "name": "stdout",
     "output_type": "stream",
     "text": [
      "👻 District: 锦江生态带\n",
      "😈 Total real estate for sale:「588」\n"
     ]
    },
    {
     "name": "stderr",
     "output_type": "stream",
     "text": [
      "锦江生态带: 100%|\u001b[37m██████████\u001b[0m| 20/20 [00:48<00:00,  2.41s/it]\n"
     ]
    },
    {
     "name": "stdout",
     "output_type": "stream",
     "text": [
      "👻 District: 麓湖生态城\n",
      "😈 Total real estate for sale:「96」\n"
     ]
    },
    {
     "name": "stderr",
     "output_type": "stream",
     "text": [
      "麓湖生态城: 100%|\u001b[37m██████████\u001b[0m| 4/4 [00:08<00:00,  2.18s/it]\n"
     ]
    },
    {
     "name": "stdout",
     "output_type": "stream",
     "text": [
      "👻 District: 麓山\n",
      "😈 Total real estate for sale:「826」\n"
     ]
    },
    {
     "name": "stderr",
     "output_type": "stream",
     "text": [
      "麓山: 100%|\u001b[37m██████████\u001b[0m| 28/28 [01:06<00:00,  2.36s/it]\n"
     ]
    },
    {
     "name": "stdout",
     "output_type": "stream",
     "text": [
      "👻 District: 南湖\n",
      "😈 Total real estate for sale:「2388」\n"
     ]
    },
    {
     "name": "stderr",
     "output_type": "stream",
     "text": [
      "南湖: 100%|\u001b[37m██████████\u001b[0m| 80/80 [03:32<00:00,  2.65s/it]\n"
     ]
    },
    {
     "name": "stdout",
     "output_type": "stream",
     "text": [
      "👻 District: 仁寿\n",
      "😈 Total real estate for sale:「5」\n"
     ]
    },
    {
     "name": "stderr",
     "output_type": "stream",
     "text": [
      "仁寿: 100%|\u001b[37m██████████\u001b[0m| 1/1 [00:02<00:00,  2.01s/it]\n"
     ]
    },
    {
     "name": "stdout",
     "output_type": "stream",
     "text": [
      "👻 District: 四河\n",
      "😈 Total real estate for sale:「186」\n"
     ]
    },
    {
     "name": "stderr",
     "output_type": "stream",
     "text": [
      "四河: 100%|\u001b[37m██████████\u001b[0m| 7/7 [00:17<00:00,  2.50s/it]\n"
     ]
    },
    {
     "name": "stdout",
     "output_type": "stream",
     "text": [
      "👻 District: 新会展\n",
      "😈 Total real estate for sale:「1021」\n"
     ]
    },
    {
     "name": "stderr",
     "output_type": "stream",
     "text": [
      "新会展: 100%|\u001b[37m██████████\u001b[0m| 35/35 [01:38<00:00,  2.83s/it]\n"
     ]
    },
    {
     "name": "stdout",
     "output_type": "stream",
     "text": [
      "👻 District: 雅居乐\n",
      "😈 Total real estate for sale:「318」\n"
     ]
    },
    {
     "name": "stderr",
     "output_type": "stream",
     "text": [
      "雅居乐: 100%|\u001b[37m██████████\u001b[0m| 11/11 [00:29<00:00,  2.70s/it]\n"
     ]
    },
    {
     "name": "stdout",
     "output_type": "stream",
     "text": [
      "👻 District: 高新西\n",
      "😈 Total real estate for sale:「1278」\n"
     ]
    },
    {
     "name": "stderr",
     "output_type": "stream",
     "text": [
      "高新西: 100%|\u001b[37m██████████\u001b[0m| 43/43 [01:40<00:00,  2.35s/it]\n"
     ]
    },
    {
     "name": "stdout",
     "output_type": "stream",
     "text": [
      "👻 District: 中海国际\n",
      "😈 Total real estate for sale:「797」\n"
     ]
    },
    {
     "name": "stderr",
     "output_type": "stream",
     "text": [
      "中海国际: 100%|\u001b[37m██████████\u001b[0m| 27/27 [01:04<00:00,  2.40s/it]\n"
     ]
    },
    {
     "name": "stdout",
     "output_type": "stream",
     "text": [
      "👻 District: 簇桥\n",
      "😈 Total real estate for sale:「406」\n"
     ]
    },
    {
     "name": "stderr",
     "output_type": "stream",
     "text": [
      "簇桥: 100%|\u001b[37m██████████\u001b[0m| 14/14 [00:32<00:00,  2.32s/it]\n"
     ]
    },
    {
     "name": "stdout",
     "output_type": "stream",
     "text": [
      "👻 District: 东升镇\n",
      "😈 Total real estate for sale:「1269」\n"
     ]
    },
    {
     "name": "stderr",
     "output_type": "stream",
     "text": [
      "东升镇: 100%|\u001b[37m██████████\u001b[0m| 43/43 [01:40<00:00,  2.33s/it]\n"
     ]
    },
    {
     "name": "stdout",
     "output_type": "stream",
     "text": [
      "👻 District: 公兴\n",
      "😈 Total real estate for sale:「334」\n"
     ]
    },
    {
     "name": "stderr",
     "output_type": "stream",
     "text": [
      "公兴: 100%|\u001b[37m██████████\u001b[0m| 12/12 [00:26<00:00,  2.19s/it]\n"
     ]
    },
    {
     "name": "stdout",
     "output_type": "stream",
     "text": [
      "👻 District: 航空港\n",
      "😈 Total real estate for sale:「2675」\n"
     ]
    },
    {
     "name": "stderr",
     "output_type": "stream",
     "text": [
      "航空港: 100%|\u001b[37m██████████\u001b[0m| 90/90 [03:46<00:00,  2.52s/it]\n"
     ]
    },
    {
     "name": "stdout",
     "output_type": "stream",
     "text": [
      "👻 District: 蛟龙港\n",
      "😈 Total real estate for sale:「1680」\n"
     ]
    },
    {
     "name": "stderr",
     "output_type": "stream",
     "text": [
      "蛟龙港: 100%|\u001b[37m██████████\u001b[0m| 56/56 [02:24<00:00,  2.58s/it]\n"
     ]
    },
    {
     "name": "stdout",
     "output_type": "stream",
     "text": [
      "👻 District: 警院\n",
      "😈 Total real estate for sale:「109」\n"
     ]
    },
    {
     "name": "stderr",
     "output_type": "stream",
     "text": [
      "警院: 100%|\u001b[37m██████████\u001b[0m| 4/4 [00:08<00:00,  2.23s/it]\n"
     ]
    },
    {
     "name": "stdout",
     "output_type": "stream",
     "text": [
      "👻 District: 九龙湖\n",
      "😈 Total real estate for sale:「73」\n"
     ]
    },
    {
     "name": "stderr",
     "output_type": "stream",
     "text": [
      "九龙湖: 100%|\u001b[37m██████████\u001b[0m| 3/3 [00:06<00:00,  2.22s/it]\n"
     ]
    },
    {
     "name": "stdout",
     "output_type": "stream",
     "text": [
      "👻 District: 牧马山\n",
      "😈 Total real estate for sale:「341」\n"
     ]
    },
    {
     "name": "stderr",
     "output_type": "stream",
     "text": [
      "牧马山: 100%|\u001b[37m██████████\u001b[0m| 12/12 [00:37<00:00,  3.16s/it]\n"
     ]
    },
    {
     "name": "stdout",
     "output_type": "stream",
     "text": [
      "👻 District: 双流城区\n",
      "😈 Total real estate for sale:「510」\n"
     ]
    },
    {
     "name": "stderr",
     "output_type": "stream",
     "text": [
      "双流城区: 100%|\u001b[37m██████████\u001b[0m| 17/17 [00:44<00:00,  2.64s/it]\n"
     ]
    },
    {
     "name": "stdout",
     "output_type": "stream",
     "text": [
      "👻 District: 文星镇\n",
      "😈 Total real estate for sale:「440」\n"
     ]
    },
    {
     "name": "stderr",
     "output_type": "stream",
     "text": [
      "文星镇: 100%|\u001b[37m██████████\u001b[0m| 15/15 [00:40<00:00,  2.70s/it]\n"
     ]
    },
    {
     "name": "stdout",
     "output_type": "stream",
     "text": [
      "👻 District: 新津\n",
      "😈 Total real estate for sale:「2925」\n"
     ]
    },
    {
     "name": "stderr",
     "output_type": "stream",
     "text": [
      "新津: 100%|\u001b[37m██████████\u001b[0m| 98/98 [04:28<00:00,  2.74s/it]\n"
     ]
    },
    {
     "name": "stdout",
     "output_type": "stream",
     "text": [
      "👻 District: 芙蓉古城\n",
      "😈 Total real estate for sale:「497」\n"
     ]
    },
    {
     "name": "stderr",
     "output_type": "stream",
     "text": [
      "芙蓉古城: 100%|\u001b[37m██████████\u001b[0m| 17/17 [00:44<00:00,  2.61s/it]\n"
     ]
    },
    {
     "name": "stdout",
     "output_type": "stream",
     "text": [
      "👻 District: 光华大道沿线\n",
      "😈 Total real estate for sale:「2027」\n"
     ]
    },
    {
     "name": "stderr",
     "output_type": "stream",
     "text": [
      "光华大道沿线: 100%|\u001b[37m██████████\u001b[0m| 68/68 [02:44<00:00,  2.42s/it]\n"
     ]
    },
    {
     "name": "stdout",
     "output_type": "stream",
     "text": [
      "👻 District: 国色天乡\n",
      "😈 Total real estate for sale:「1035」\n"
     ]
    },
    {
     "name": "stderr",
     "output_type": "stream",
     "text": [
      "国色天乡: 100%|\u001b[37m██████████\u001b[0m| 35/35 [01:38<00:00,  2.80s/it]\n"
     ]
    },
    {
     "name": "stdout",
     "output_type": "stream",
     "text": [
      "👻 District: 花都大道\n",
      "😈 Total real estate for sale:「1009」\n"
     ]
    },
    {
     "name": "stderr",
     "output_type": "stream",
     "text": [
      "花都大道: 100%|\u001b[37m██████████\u001b[0m| 34/34 [01:29<00:00,  2.62s/it]\n"
     ]
    },
    {
     "name": "stdout",
     "output_type": "stream",
     "text": [
      "👻 District: 温江大学城\n",
      "😈 Total real estate for sale:「2362」\n"
     ]
    },
    {
     "name": "stderr",
     "output_type": "stream",
     "text": [
      "温江大学城: 100%|\u001b[37m██████████\u001b[0m| 79/79 [03:23<00:00,  2.57s/it]\n"
     ]
    },
    {
     "name": "stdout",
     "output_type": "stream",
     "text": [
      "👻 District: 温江老城\n",
      "😈 Total real estate for sale:「1837」\n"
     ]
    },
    {
     "name": "stderr",
     "output_type": "stream",
     "text": [
      "温江老城: 100%|\u001b[37m██████████\u001b[0m| 62/62 [02:39<00:00,  2.58s/it]\n"
     ]
    },
    {
     "name": "stdout",
     "output_type": "stream",
     "text": [
      "👻 District: 温江新城\n",
      "😈 Total real estate for sale:「878」\n"
     ]
    },
    {
     "name": "stderr",
     "output_type": "stream",
     "text": [
      "温江新城: 100%|\u001b[37m██████████\u001b[0m| 30/30 [01:20<00:00,  2.67s/it]\n"
     ]
    },
    {
     "name": "stdout",
     "output_type": "stream",
     "text": [
      "👻 District: 珠江新城\n",
      "😈 Total real estate for sale:「586」\n"
     ]
    },
    {
     "name": "stderr",
     "output_type": "stream",
     "text": [
      "珠江新城: 100%|\u001b[37m██████████\u001b[0m| 20/20 [00:59<00:00,  2.97s/it]\n"
     ]
    },
    {
     "name": "stdout",
     "output_type": "stream",
     "text": [
      "👻 District: 成外\n",
      "😈 Total real estate for sale:「1320」\n"
     ]
    },
    {
     "name": "stderr",
     "output_type": "stream",
     "text": [
      "成外: 100%|\u001b[37m██████████\u001b[0m| 44/44 [01:47<00:00,  2.44s/it]\n"
     ]
    },
    {
     "name": "stdout",
     "output_type": "stream",
     "text": [
      "👻 District: 红光\n",
      "😈 Total real estate for sale:「1068」\n"
     ]
    },
    {
     "name": "stderr",
     "output_type": "stream",
     "text": [
      "红光: 100%|\u001b[37m██████████\u001b[0m| 36/36 [01:29<00:00,  2.49s/it]\n"
     ]
    },
    {
     "name": "stdout",
     "output_type": "stream",
     "text": [
      "👻 District: 郫县城区\n",
      "😈 Total real estate for sale:「3502」\n"
     ]
    },
    {
     "name": "stderr",
     "output_type": "stream",
     "text": [
      "郫县城区: 100%|\u001b[37m██████████\u001b[0m| 100/100 [03:56<00:00,  2.36s/it]\n"
     ]
    },
    {
     "name": "stdout",
     "output_type": "stream",
     "text": [
      "👻 District: 郫县万达\n",
      "😈 Total real estate for sale:「1110」\n"
     ]
    },
    {
     "name": "stderr",
     "output_type": "stream",
     "text": [
      "郫县万达: 100%|\u001b[37m██████████\u001b[0m| 37/37 [01:36<00:00,  2.60s/it]\n"
     ]
    },
    {
     "name": "stdout",
     "output_type": "stream",
     "text": [
      "👻 District: 橡树湾\n",
      "😈 Total real estate for sale:「958」\n"
     ]
    },
    {
     "name": "stderr",
     "output_type": "stream",
     "text": [
      "橡树湾: 100%|\u001b[37m██████████\u001b[0m| 32/32 [01:21<00:00,  2.56s/it]\n"
     ]
    },
    {
     "name": "stdout",
     "output_type": "stream",
     "text": [
      "👻 District: 犀浦\n",
      "😈 Total real estate for sale:「2748」\n"
     ]
    },
    {
     "name": "stderr",
     "output_type": "stream",
     "text": [
      "犀浦: 100%|\u001b[37m██████████\u001b[0m| 92/92 [03:59<00:00,  2.60s/it]\n"
     ]
    },
    {
     "name": "stdout",
     "output_type": "stream",
     "text": [
      "👻 District: 东山\n",
      "😈 Total real estate for sale:「532」\n"
     ]
    },
    {
     "name": "stderr",
     "output_type": "stream",
     "text": [
      "东山: 100%|\u001b[37m██████████\u001b[0m| 18/18 [00:39<00:00,  2.19s/it]\n"
     ]
    },
    {
     "name": "stdout",
     "output_type": "stream",
     "text": [
      "👻 District: 航天\n",
      "😈 Total real estate for sale:「737」\n"
     ]
    },
    {
     "name": "stderr",
     "output_type": "stream",
     "text": [
      "航天: 100%|\u001b[37m██████████\u001b[0m| 25/25 [00:57<00:00,  2.30s/it]\n"
     ]
    },
    {
     "name": "stdout",
     "output_type": "stream",
     "text": [
      "👻 District: 洪河\n",
      "😈 Total real estate for sale:「485」\n"
     ]
    },
    {
     "name": "stderr",
     "output_type": "stream",
     "text": [
      "洪河: 100%|\u001b[37m██████████\u001b[0m| 17/17 [00:40<00:00,  2.36s/it]\n"
     ]
    },
    {
     "name": "stdout",
     "output_type": "stream",
     "text": [
      "👻 District: 龙泉驿城区\n",
      "😈 Total real estate for sale:「3186」\n"
     ]
    },
    {
     "name": "stderr",
     "output_type": "stream",
     "text": [
      "龙泉驿城区: 100%|\u001b[37m██████████\u001b[0m| 100/100 [04:08<00:00,  2.48s/it]\n"
     ]
    },
    {
     "name": "stdout",
     "output_type": "stream",
     "text": [
      "👻 District: 十陵\n",
      "😈 Total real estate for sale:「520」\n"
     ]
    },
    {
     "name": "stderr",
     "output_type": "stream",
     "text": [
      "十陵: 100%|\u001b[37m██████████\u001b[0m| 18/18 [00:46<00:00,  2.58s/it]\n"
     ]
    },
    {
     "name": "stdout",
     "output_type": "stream",
     "text": [
      "👻 District: 西河\n",
      "😈 Total real estate for sale:「494」\n"
     ]
    },
    {
     "name": "stderr",
     "output_type": "stream",
     "text": [
      "西河: 100%|\u001b[37m██████████\u001b[0m| 17/17 [00:40<00:00,  2.37s/it]\n"
     ]
    },
    {
     "name": "stdout",
     "output_type": "stream",
     "text": [
      "👻 District: 阳光城\n",
      "😈 Total real estate for sale:「1188」\n"
     ]
    },
    {
     "name": "stderr",
     "output_type": "stream",
     "text": [
      "阳光城: 100%|\u001b[37m██████████\u001b[0m| 40/40 [01:41<00:00,  2.53s/it]\n"
     ]
    },
    {
     "name": "stdout",
     "output_type": "stream",
     "text": [
      "👻 District: 保利公园\n",
      "😈 Total real estate for sale:「1057」\n"
     ]
    },
    {
     "name": "stderr",
     "output_type": "stream",
     "text": [
      "保利公园: 100%|\u001b[37m██████████\u001b[0m| 36/36 [01:28<00:00,  2.46s/it]\n"
     ]
    },
    {
     "name": "stdout",
     "output_type": "stream",
     "text": [
      "👻 District: 大丰\n",
      "😈 Total real estate for sale:「2134」\n"
     ]
    },
    {
     "name": "stderr",
     "output_type": "stream",
     "text": [
      "大丰: 100%|\u001b[37m██████████\u001b[0m| 72/72 [03:02<00:00,  2.54s/it]\n"
     ]
    },
    {
     "name": "stdout",
     "output_type": "stream",
     "text": [
      "👻 District: 毗河\n",
      "😈 Total real estate for sale:「1294」\n"
     ]
    },
    {
     "name": "stderr",
     "output_type": "stream",
     "text": [
      "毗河: 100%|\u001b[37m██████████\u001b[0m| 44/44 [01:50<00:00,  2.51s/it]\n"
     ]
    },
    {
     "name": "stdout",
     "output_type": "stream",
     "text": [
      "👻 District: 新都城区\n",
      "😈 Total real estate for sale:「2784」\n"
     ]
    },
    {
     "name": "stderr",
     "output_type": "stream",
     "text": [
      "新都城区: 100%|\u001b[37m██████████\u001b[0m| 93/93 [03:51<00:00,  2.49s/it]\n"
     ]
    },
    {
     "name": "stdout",
     "output_type": "stream",
     "text": [
      "👻 District: 青白江\n",
      "😈 Total real estate for sale:「2687」\n"
     ]
    },
    {
     "name": "stderr",
     "output_type": "stream",
     "text": [
      "青白江: 100%|\u001b[37m██████████\u001b[0m| 90/90 [03:46<00:00,  2.52s/it]\n"
     ]
    }
   ],
   "source": [
    "for district in outer_districts:\n",
    "    district_data = scrap('cd',district)\n",
    "    outer_data = pd.concat([outer_data, district_data])"
   ]
  },
  {
   "cell_type": "code",
   "execution_count": 139,
   "id": "a075092d",
   "metadata": {},
   "outputs": [],
   "source": [
    "cd_data = pd.concat([outer_data,inner_data],axis = 0)"
   ]
  },
  {
   "cell_type": "code",
   "execution_count": 140,
   "id": "4b5e721c",
   "metadata": {},
   "outputs": [],
   "source": [
    "cd_data.to_csv('cd_raw.csv', index = False)"
   ]
  },
  {
   "cell_type": "code",
   "execution_count": 141,
   "id": "48540a74",
   "metadata": {},
   "outputs": [],
   "source": [
    "inner_data.to_csv('cd_inner_raw.csv', index = False)\n",
    "outer_data.to_csv('cd_outer_raw.csv', index = False)"
   ]
  }
 ],
 "metadata": {
  "kernelspec": {
   "display_name": "Python 3",
   "language": "python",
   "name": "python3"
  },
  "language_info": {
   "codemirror_mode": {
    "name": "ipython",
    "version": 3
   },
   "file_extension": ".py",
   "mimetype": "text/x-python",
   "name": "python",
   "nbconvert_exporter": "python",
   "pygments_lexer": "ipython3",
   "version": "3.8.8"
  }
 },
 "nbformat": 4,
 "nbformat_minor": 5
}
